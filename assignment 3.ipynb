{
 "cells": [
  {
   "cell_type": "code",
   "execution_count": 7,
   "id": "17a4fe0a",
   "metadata": {},
   "outputs": [],
   "source": [
    "#  Write a Python function to sum all the numbers in a list.\n",
    "\n",
    "def addition(numbers):\n",
    "    y=0\n",
    "    for i in numbers:\n",
    "        y+=i\n",
    "    return y"
   ]
  },
  {
   "cell_type": "code",
   "execution_count": 8,
   "id": "81282ec1",
   "metadata": {},
   "outputs": [
    {
     "data": {
      "text/plain": [
       "20"
      ]
     },
     "execution_count": 8,
     "metadata": {},
     "output_type": "execute_result"
    }
   ],
   "source": [
    "addition([8,2,3,0,7])"
   ]
  },
  {
   "cell_type": "code",
   "execution_count": 19,
   "id": "49d72abd",
   "metadata": {},
   "outputs": [
    {
     "name": "stdout",
     "output_type": "stream",
     "text": [
      "enter the string:1234abcd\n"
     ]
    },
    {
     "data": {
      "text/plain": [
       "'dcba4321'"
      ]
     },
     "execution_count": 19,
     "metadata": {},
     "output_type": "execute_result"
    }
   ],
   "source": [
    "# Write a Python program to reverse a string.\n",
    "\n",
    "def reverse(string):\n",
    "    y=''\n",
    "    for i in string:\n",
    "        y=i+y\n",
    "    return y\n",
    "\n",
    "\n",
    "string=input('enter the string:')\n",
    "reverse(string)"
   ]
  },
  {
   "cell_type": "code",
   "execution_count": 4,
   "id": "3a595270",
   "metadata": {},
   "outputs": [
    {
     "name": "stdout",
     "output_type": "stream",
     "text": [
      "enter the sentence : The quick Brow Fox\n",
      "the number of upper case characters is= 3\n",
      "the number of lower case characters is= 12\n"
     ]
    },
    {
     "data": {
      "text/plain": [
       "<function __main__.sentence(string)>"
      ]
     },
     "execution_count": 4,
     "metadata": {},
     "output_type": "execute_result"
    }
   ],
   "source": [
    "# Write a Python function that accepts a string and calculate the number of upper case letters and lower case letters.\n",
    "\n",
    "def sentence(string):\n",
    "    a=0\n",
    "    b=0\n",
    "    for char in string:\n",
    "        if char.isupper():\n",
    "            a+=1\n",
    "        if char.islower():\n",
    "            b+=1\n",
    "    print('the number of upper case characters is=',a)\n",
    "    print('the number of lower case characters is=',b)\n",
    "    return sentence\n",
    "\n",
    "\n",
    "string=input('enter the sentence : ')\n",
    "sentence(string)"
   ]
  },
  {
   "cell_type": "code",
   "execution_count": null,
   "id": "27f66ede",
   "metadata": {},
   "outputs": [],
   "source": []
  }
 ],
 "metadata": {
  "kernelspec": {
   "display_name": "Python 3 (ipykernel)",
   "language": "python",
   "name": "python3"
  },
  "language_info": {
   "codemirror_mode": {
    "name": "ipython",
    "version": 3
   },
   "file_extension": ".py",
   "mimetype": "text/x-python",
   "name": "python",
   "nbconvert_exporter": "python",
   "pygments_lexer": "ipython3",
   "version": "3.9.6"
  }
 },
 "nbformat": 4,
 "nbformat_minor": 5
}

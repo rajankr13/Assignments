{
 "cells": [
  {
   "cell_type": "code",
   "execution_count": 6,
   "id": "71253a57",
   "metadata": {},
   "outputs": [
    {
     "name": "stdout",
     "output_type": "stream",
     "text": [
      "Number of even numbers 4\n",
      "Number of odd numbers 5\n"
     ]
    }
   ],
   "source": [
    "# Write a Python program to count the number of even and odd numbers from a series of numbers.\n",
    "\n",
    "a=0\n",
    "b=0\n",
    "for i in range(1,10):\n",
    "    if i%2==0:\n",
    "        a+=1\n",
    "    else:\n",
    "        b+=1\n",
    "print('Number of even numbers',a)\n",
    "print('Number of odd numbers',b)\n",
    "        "
   ]
  },
  {
   "cell_type": "code",
   "execution_count": 12,
   "id": "4f83d56d",
   "metadata": {},
   "outputs": [
    {
     "name": "stdout",
     "output_type": "stream",
     "text": [
      "0\n",
      "1\n",
      "1\n",
      "2\n",
      "3\n",
      "5\n",
      "8\n",
      "13\n",
      "21\n",
      "34\n"
     ]
    }
   ],
   "source": [
    "# Write a Python program to get the Fibonacci series between 0 to 50 (for loop)\n",
    "\n",
    "\n",
    "a=0\n",
    "b=1\n",
    "c=0\n",
    "print(a)\n",
    "for i in range(1,50):\n",
    "    a=b\n",
    "    b=c\n",
    "    c=a+b\n",
    "    if c<50:\n",
    "        print(c)"
   ]
  },
  {
   "cell_type": "code",
   "execution_count": 15,
   "id": "f4a519bd",
   "metadata": {},
   "outputs": [
    {
     "name": "stdout",
     "output_type": "stream",
     "text": [
      "Enter the word = Edyoda\n",
      "adoydE"
     ]
    }
   ],
   "source": [
    "# Write a Python program that accepts a word from the user and reverse it.\n",
    " \n",
    "Word=input('Enter the word = ')\n",
    "for i in range((len(Word)-1),-1,-1):\n",
    "    print(Word[i],end='')"
   ]
  },
  {
   "cell_type": "code",
   "execution_count": null,
   "id": "8e8251a5",
   "metadata": {},
   "outputs": [],
   "source": []
  }
 ],
 "metadata": {
  "kernelspec": {
   "display_name": "Python 3 (ipykernel)",
   "language": "python",
   "name": "python3"
  },
  "language_info": {
   "codemirror_mode": {
    "name": "ipython",
    "version": 3
   },
   "file_extension": ".py",
   "mimetype": "text/x-python",
   "name": "python",
   "nbconvert_exporter": "python",
   "pygments_lexer": "ipython3",
   "version": "3.9.6"
  }
 },
 "nbformat": 4,
 "nbformat_minor": 5
}
